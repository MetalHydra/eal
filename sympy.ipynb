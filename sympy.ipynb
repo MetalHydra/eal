{
 "cells": [
  {
   "cell_type": "code",
   "execution_count": 4,
   "metadata": {},
   "outputs": [
    {
     "ename": "TypeError",
     "evalue": "'frozenset' object is not callable",
     "output_type": "error",
     "traceback": [
      "\u001b[0;31m---------------------------------------------------------------------------\u001b[0m",
      "\u001b[0;31mTypeError\u001b[0m                                 Traceback (most recent call last)",
      "Cell \u001b[0;32mIn [4], line 3\u001b[0m\n\u001b[1;32m      1\u001b[0m \u001b[39mimport\u001b[39;00m \u001b[39mmusic21\u001b[39;00m\n\u001b[1;32m      2\u001b[0m sc \u001b[39m=\u001b[39m music21\u001b[39m.\u001b[39mscale\u001b[39m.\u001b[39mConcreteScale(pitches\u001b[39m=\u001b[39m[\u001b[39m'\u001b[39m\u001b[39mC4\u001b[39m\u001b[39m'\u001b[39m, \u001b[39m'\u001b[39m\u001b[39mE-4\u001b[39m\u001b[39m'\u001b[39m, \u001b[39m'\u001b[39m\u001b[39mG-4\u001b[39m\u001b[39m'\u001b[39m, \u001b[39m'\u001b[39m\u001b[39mA4\u001b[39m\u001b[39m'\u001b[39m])\n\u001b[0;32m----> 3\u001b[0m \u001b[39mprint\u001b[39m(sc\u001b[39m.\u001b[39;49mclassSet())\n",
      "\u001b[0;31mTypeError\u001b[0m: 'frozenset' object is not callable"
     ]
    }
   ],
   "source": [
    "import music21\n",
    "sc = music21.scale.ConcreteScale(pitches=['C4', 'E-4', 'G-4', 'A4'])\n"
   ]
  }
 ],
 "metadata": {
  "kernelspec": {
   "display_name": "Python 3.10.4 ('audio')",
   "language": "python",
   "name": "python3"
  },
  "language_info": {
   "codemirror_mode": {
    "name": "ipython",
    "version": 3
   },
   "file_extension": ".py",
   "mimetype": "text/x-python",
   "name": "python",
   "nbconvert_exporter": "python",
   "pygments_lexer": "ipython3",
   "version": "3.10.4"
  },
  "orig_nbformat": 4,
  "vscode": {
   "interpreter": {
    "hash": "1592f04303262e66acb815cb012701de83c52202d5cde75622e738450a99ae09"
   }
  }
 },
 "nbformat": 4,
 "nbformat_minor": 2
}
